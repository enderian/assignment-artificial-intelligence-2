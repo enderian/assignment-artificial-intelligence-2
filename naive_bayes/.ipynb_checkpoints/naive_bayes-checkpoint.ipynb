{
 "cells": [
  {
   "cell_type": "code",
   "execution_count": 31,
   "metadata": {},
   "outputs": [],
   "source": [
    "import glob\n",
    "import pandas\n",
    "import numpy as np\n",
    "import re\n",
    "from itertools import islice\n",
    "from collections import defaultdict"
   ]
  },
  {
   "cell_type": "code",
   "execution_count": 32,
   "metadata": {},
   "outputs": [],
   "source": [
    "def prepare_message(file):\n",
    "    f = open(file)\n",
    "    while True:\n",
    "        if f.readline().strip() == '':\n",
    "            break\n",
    "\n",
    "    return list(map(lambda w: w.strip().lower(), f.read().split('\\n')))"
   ]
  },
  {
   "cell_type": "code",
   "execution_count": 33,
   "metadata": {},
   "outputs": [],
   "source": [
    "def load_datasets(ratio):\n",
    "    spam = glob.glob('email/spam/GP/**/*.eml')\n",
    "    spam_messages = list(map(prepare_message, spam))\n",
    "    ham = glob.glob('email/ham/**/**/*')\n",
    "    ham_messages = list(map(prepare_message, ham))\n",
    "    total_count = len(ham_messages + spam_messages) / ratio\n",
    "    \n",
    "    return total_count, list(islice(spam_messages, int(len(spam_messages) * ratio))), list(islice(ham_messages, int(len(ham_messages) * ratio)))\n",
    "\n",
    "def load_test_datasets():\n",
    "    spam = glob.glob('test/spam/GP/**/*.eml')\n",
    "    spam_messages = list(map(prepare_message, spam))\n",
    "    ham = glob.glob('test/ham/**/**/*')\n",
    "    ham_messages = list(map(prepare_message, ham))\n",
    "    \n",
    "    return spam_messages, ham_messages"
   ]
  },
  {
   "cell_type": "code",
   "execution_count": 34,
   "metadata": {},
   "outputs": [],
   "source": [
    "def striphtml(data):\n",
    "    p = re.compile(r'<.*?>')\n",
    "    return p.sub('', data)\n",
    "\n",
    "def segment(message):\n",
    "    words = []\n",
    "    for line in message:\n",
    "        # TODO: SPLIT WITH COMMON DELIMS\n",
    "        for word in striphtml(line).split(' '):\n",
    "            if word.strip() != '':\n",
    "                words.append(word)\n",
    "    return words\n",
    "\n",
    "def occurance(messages):\n",
    "    occur = defaultdict(int)\n",
    "    for message in messages:\n",
    "        words = set()\n",
    "        for word in segment(message):\n",
    "            words.add(word)\n",
    "        for word in words:\n",
    "            occur[word] += 1\n",
    "    return occur"
   ]
  },
  {
   "cell_type": "code",
   "execution_count": 35,
   "metadata": {},
   "outputs": [],
   "source": [
    "def train_naive_bayes(ratio):\n",
    "    total_count, spam_messages, ham_messages = load_datasets(ratio)\n",
    "    spam_words = occurance(spam_messages)\n",
    "    ham_words = occurance(ham_messages)\n",
    "    all_words = occurance(ham_messages + spam_messages)\n",
    "    \n",
    "    p_C1 = len(spam_messages) / total_count\n",
    "    # Global term frequency\n",
    "    pX = {k: v / total_count for k, v in all_words.items()}\n",
    "    # Ham, spam term frequency\n",
    "    pXC0, pXC1 = defaultdict(lambda:1), defaultdict(lambda:1)\n",
    "\n",
    "    for k, v in all_words.items():\n",
    "        if k in ham_words:\n",
    "            pXC0[k] = ham_words[k] / all_words[k]\n",
    "        if k in spam_words:\n",
    "            pXC1[k] = spam_words[k] / all_words[k]\n",
    "\n",
    "    return p_C1, pX, pXC0, pXC1, total_count"
   ]
  },
  {
   "cell_type": "code",
   "execution_count": 36,
   "metadata": {},
   "outputs": [],
   "source": [
    "def naive_bayes(xi):\n",
    "    pc0 = pc1 = 1\n",
    "    for x in xi:\n",
    "        pc0 = pc0 * pXC0[x]\n",
    "        pc1 = pc1 * pXC1[x]\n",
    "    return p_C0 * pc0, p_C1 * pc1  "
   ]
  },
  {
   "cell_type": "code",
   "execution_count": 37,
   "metadata": {},
   "outputs": [],
   "source": [
    "spam_test, ham_test = load_test_datasets()"
   ]
  },
  {
   "cell_type": "code",
   "execution_count": 38,
   "metadata": {},
   "outputs": [],
   "source": [
    "def test_naive_bayes(ratio):\n",
    "    p_C1, pX, pXC0, pXC1, total_count = train_naive_bayes(ratio)\n",
    "    p_C0 = 1 - p_C1\n",
    "\n",
    "    spam_positive = spam_false_positive = 0\n",
    "\n",
    "    for message in spam_test:\n",
    "        ham, spam = naive_bayes(message)\n",
    "        if spam > ham:\n",
    "            spam_positive = spam_positive + 1\n",
    "\n",
    "    for message in ham_test:\n",
    "        ham, spam = naive_bayes(message)\n",
    "        if spam > ham:\n",
    "            spam_false_positive = spam_false_positive + 1\n",
    "\n",
    "    precision = spam_positive / (spam_positive + spam_false_positive)\n",
    "    recall = spam_positive / len(spam_test)\n",
    "    f1 = 2 * (precision * recall) / (precision + recall)\n",
    "    return total_count, precision, recall, f1"
   ]
  },
  {
   "cell_type": "code",
   "execution_count": null,
   "metadata": {},
   "outputs": [],
   "source": [
    "ratios = np.arange(start=.1, stop=1.1, step=.1)\n",
    "results = [test_naive_bayes(r) for r in ratios]\n",
    "results"
   ]
  },
  {
   "cell_type": "code",
   "execution_count": 27,
   "metadata": {},
   "outputs": [
    {
     "data": {
      "text/plain": [
       "<matplotlib.axes._subplots.AxesSubplot at 0x1206af690>"
      ]
     },
     "execution_count": 27,
     "metadata": {},
     "output_type": "execute_result"
    },
    {
     "data": {
      "image/png": "[encoded data removed]",
      "text/plain": [
       "<Figure size 432x288 with 1 Axes>"
      ]
     },
     "metadata": {
      "needs_background": "light"
     },
     "output_type": "display_data"
    }
   ],
   "source": [
    "pandas.DataFrame(results, columns=['Training Set', 'Precision', 'Recall', 'F1']).cumsum().plot()"
   ]
  },
  {
   "cell_type": "code",
   "execution_count": 28,
   "metadata": {},
   "outputs": [
    {
     "data": {
      "text/plain": [
       "[(0.34472831953940264, 0.9906928645294726, 0.5114789108382274),\n",
       " (0.34472831953940264, 0.9906928645294726, 0.5114789108382274),\n",
       " (0.34472831953940264, 0.9906928645294726, 0.5114789108382274),\n",
       " (0.34472831953940264, 0.9906928645294726, 0.5114789108382274),\n",
       " (0.34472831953940264, 0.9906928645294726, 0.5114789108382274),\n",
       " (0.34472831953940264, 0.9906928645294726, 0.5114789108382274),\n",
       " (0.34472831953940264, 0.9906928645294726, 0.5114789108382274),\n",
       " (0.34472831953940264, 0.9906928645294726, 0.5114789108382274),\n",
       " (0.34472831953940264, 0.9906928645294726, 0.5114789108382274),\n",
       " (0.34472831953940264, 0.9906928645294726, 0.5114789108382274)]"
      ]
     },
     "execution_count": 28,
     "metadata": {},
     "output_type": "execute_result"
    }
   ],
   "source": [
    "results"
   ]
  },
  {
   "cell_type": "code",
   "execution_count": null,
   "metadata": {},
   "outputs": [],
   "source": []
  }
 ],
 "metadata": {
  "kernelspec": {
   "display_name": "Python 3",
   "language": "python",
   "name": "python3"
  },
  "language_info": {
   "codemirror_mode": {
    "name": "ipython",
    "version": 3
   },
   "file_extension": ".py",
   "mimetype": "text/x-python",
   "name": "python",
   "nbconvert_exporter": "python",
   "pygments_lexer": "ipython3",
   "version": "3.7.5"
  }
 },
 "nbformat": 4,
 "nbformat_minor": 4
}
