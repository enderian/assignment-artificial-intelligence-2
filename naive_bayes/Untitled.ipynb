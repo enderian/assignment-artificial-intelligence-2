{
 "cells": [
  {
   "cell_type": "code",
   "execution_count": 1,
   "metadata": {},
   "outputs": [],
   "source": [
    "import glob\n",
    "import pandas as pd\n",
    "import numpy as np\n",
    "import re\n",
    "from itertools import islice\n",
    "from collections import defaultdict"
   ]
  },
  {
   "cell_type": "code",
   "execution_count": 31,
   "metadata": {},
   "outputs": [],
   "source": [
    "def process_message(file):\n",
    "    reader = open(file, \"r\")\n",
    "    message = ' '.join(re.split('\\n\\s*\\n', reader.read())[1:])\n",
    "    message = re.sub('<[^<]+?>', '', message)\n",
    "    \n",
    "    all_words = set()\n",
    "    for word in re.split('\\s|(?<!\\d)[,.](?!\\d)', message):\n",
    "        all_words.add(word.lower())\n",
    "    return all_words\n",
    "\n",
    "def load_dataset(type = 'email'):\n",
    "    spam = glob.glob('%s/spam/**/**/*' % type)\n",
    "    ham = glob.glob('%s/ham/**/**/*' % type)\n",
    "    \n",
    "    return np.array([process_message(msg) for msg in ham]), np.array([process_message(msg) for msg in spam])"
   ]
  },
  {
   "cell_type": "code",
   "execution_count": 42,
   "metadata": {},
   "outputs": [],
   "source": [
    "def train_naive_bayes(ratio = 1.0):\n",
    "    ham, spam = load_datasets()\n",
    "    all = np.concatenate([ham, spam])\n",
    "    CNT = len(all)\n",
    "    \n",
    "    print(f'Loaded {len(ham)} ham messages, {len(spam)} spam messages, {CNT} in total.')\n",
    "    \n",
    "    PX = PC0X = PC1X = defaultdict(lambda: 0)\n",
    "    \n",
    "    for message in all:\n",
    "        for word in message:\n",
    "            PX[word] += 1\n",
    "            if word in ham:\n",
    "                PC0X[word] += 1\n",
    "            if word in spam:\n",
    "                PC1X[word] += 1\n",
    "    for message in all:\n",
    "        for word in message:\n",
    "            PX[word] = PX[word] / CNT\n",
    "            PC0X[word] = PC0X[word] / CNT\n",
    "            PC1X[word] = PC1X[word] / CNT\n",
    "        \n",
    "    PC1 = len(ham) / CNT\n",
    "    PC0 = 1 - PC1\n",
    "        \n",
    "    return PC0, PC1, PX, defaultdict(lambda: 1, PC0X), defaultdict(lambda: 1, PC1X)"
   ]
  },
  {
   "cell_type": "code",
   "execution_count": 43,
   "metadata": {},
   "outputs": [
    {
     "name": "stdout",
     "output_type": "stream",
     "text": [
      "Loaded 3807 ham messages, 4448 spam messages, 8255 in total.\n"
     ]
    },
    {
     "ename": "KeyboardInterrupt",
     "evalue": "",
     "output_type": "error",
     "traceback": [
      "\u001b[0;31m---------------------------------------------------------------------------\u001b[0m",
      "\u001b[0;31mKeyboardInterrupt\u001b[0m                         Traceback (most recent call last)",
      "\u001b[0;32m<ipython-input-43-a706efa1eb48>\u001b[0m in \u001b[0;36m<module>\u001b[0;34m\u001b[0m\n\u001b[0;32m----> 1\u001b[0;31m \u001b[0mtrain_naive_bayes\u001b[0m\u001b[0;34m(\u001b[0m\u001b[0;34m)\u001b[0m\u001b[0;34m\u001b[0m\u001b[0;34m\u001b[0m\u001b[0m\n\u001b[0m",
      "\u001b[0;32m<ipython-input-42-7760e314a9ec>\u001b[0m in \u001b[0;36mtrain_naive_bayes\u001b[0;34m(ratio)\u001b[0m\n\u001b[1;32m     13\u001b[0m             \u001b[0;32mif\u001b[0m \u001b[0mword\u001b[0m \u001b[0;32min\u001b[0m \u001b[0mham\u001b[0m\u001b[0;34m:\u001b[0m\u001b[0;34m\u001b[0m\u001b[0;34m\u001b[0m\u001b[0m\n\u001b[1;32m     14\u001b[0m                 \u001b[0mPC0X\u001b[0m\u001b[0;34m[\u001b[0m\u001b[0mword\u001b[0m\u001b[0;34m]\u001b[0m \u001b[0;34m+=\u001b[0m \u001b[0;36m1\u001b[0m\u001b[0;34m\u001b[0m\u001b[0;34m\u001b[0m\u001b[0m\n\u001b[0;32m---> 15\u001b[0;31m             \u001b[0;32mif\u001b[0m \u001b[0mword\u001b[0m \u001b[0;32min\u001b[0m \u001b[0mspam\u001b[0m\u001b[0;34m:\u001b[0m\u001b[0;34m\u001b[0m\u001b[0;34m\u001b[0m\u001b[0m\n\u001b[0m\u001b[1;32m     16\u001b[0m                 \u001b[0mPC1X\u001b[0m\u001b[0;34m[\u001b[0m\u001b[0mword\u001b[0m\u001b[0;34m]\u001b[0m \u001b[0;34m+=\u001b[0m \u001b[0;36m1\u001b[0m\u001b[0;34m\u001b[0m\u001b[0;34m\u001b[0m\u001b[0m\n\u001b[1;32m     17\u001b[0m     \u001b[0;32mfor\u001b[0m \u001b[0mmessage\u001b[0m \u001b[0;32min\u001b[0m \u001b[0mall\u001b[0m\u001b[0;34m:\u001b[0m\u001b[0;34m\u001b[0m\u001b[0;34m\u001b[0m\u001b[0m\n",
      "\u001b[0;31mKeyboardInterrupt\u001b[0m: "
     ]
    }
   ],
   "source": [
    "train_naive_bayes()"
   ]
  },
  {
   "cell_type": "code",
   "execution_count": null,
   "metadata": {},
   "outputs": [],
   "source": []
  }
 ],
 "metadata": {
  "kernelspec": {
   "display_name": "Python 3",
   "language": "python",
   "name": "python3"
  },
  "language_info": {
   "codemirror_mode": {
    "name": "ipython",
    "version": 3
   },
   "file_extension": ".py",
   "mimetype": "text/x-python",
   "name": "python",
   "nbconvert_exporter": "python",
   "pygments_lexer": "ipython3",
   "version": "3.7.5"
  }
 },
 "nbformat": 4,
 "nbformat_minor": 4
}
